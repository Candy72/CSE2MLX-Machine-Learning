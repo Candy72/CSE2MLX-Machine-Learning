{
 "cells": [
  {
   "cell_type": "code",
   "execution_count": 1,
   "id": "fb325c5d-a509-45bc-9a52-e42034379cb3",
   "metadata": {},
   "outputs": [],
   "source": [
    "import numpy as np\n",
    "import pandas as pd"
   ]
  },
  {
   "cell_type": "code",
   "execution_count": 2,
   "id": "87052cc6-b606-4da9-b88f-3e7a674559ae",
   "metadata": {},
   "outputs": [],
   "source": [
    "dataset = pd.read_csv ('datasets/LRCar_Data.csv')\n",
    "x = dataset.iloc[: :-1].values\n",
    "y = dataset.iloc[:, -1].values"
   ]
  },
  {
   "cell_type": "code",
   "execution_count": 3,
   "id": "92f61bef-e505-4e95-86a4-a6b6338341ac",
   "metadata": {},
   "outputs": [],
   "source": [
    "from sklearn.model_selection import train_test_split\n",
    "X_train, X_test, y_train, y_test = train_test_split (x, y, test_size = 0.2, random_state = 0)"
   ]
  },
  {
   "cell_type": "code",
   "execution_count": 4,
   "id": "98876493-928e-45bd-8eb0-3c098c930db3",
   "metadata": {},
   "outputs": [
    {
     "name": "stdout",
     "output_type": "stream",
     "text": [
      "[[3.0000e+00 9.6000e+00 2.0000e+00 5.0000e+00 3.7730e+03 1.0000e+00]\n",
      " [1.9000e+01 4.0000e+00 3.4000e+00 5.0000e+00 8.1360e+03 1.0000e+00]\n",
      " [1.3000e+01 5.3000e+00 3.0000e+00 7.0000e+00 5.6960e+03 1.0000e+00]\n",
      " [8.0000e+00 7.9000e+00 2.2000e+00 5.0000e+00 5.4450e+03 1.0000e+00]\n",
      " [2.5000e+01 2.9000e+00 1.8000e+00 5.0000e+00 1.0943e+04 1.0000e+00]\n",
      " [1.4000e+01 5.1000e+00 2.0000e+00 5.0000e+00 5.7080e+03 1.0000e+00]\n",
      " [2.2000e+01 3.2000e+00 1.8000e+00 5.0000e+00 9.8270e+03 1.0000e+00]\n",
      " [1.6000e+01 4.5000e+00 1.8000e+00 7.0000e+00 6.7940e+03 1.0000e+00]\n",
      " [7.0000e+00 8.2000e+00 1.6000e+00 5.0000e+00 6.0150e+03 0.0000e+00]\n",
      " [1.0000e+01 6.8000e+00 2.2000e+00 5.0000e+00 5.7190e+03 1.0000e+00]\n",
      " [2.9000e+01 1.3000e+00 2.2000e+00 7.0000e+00 1.2239e+04 1.0000e+00]\n",
      " [1.0000e+00 1.0500e+01 1.6000e+00 5.0000e+00 3.9340e+03 0.0000e+00]\n",
      " [2.4000e+01 3.0000e+00 3.2000e+00 7.0000e+00 1.1381e+04 1.0000e+00]\n",
      " [2.6000e+01 2.2000e+00 3.4000e+00 5.0000e+00 1.0558e+04 1.0000e+00]\n",
      " [1.2000e+01 5.9000e+00 1.8000e+00 7.0000e+00 5.5790e+03 1.0000e+00]\n",
      " [1.1000e+01 6.0000e+00 1.6000e+00 5.0000e+00 6.3220e+03 0.0000e+00]\n",
      " [2.1000e+01 3.7000e+00 1.8000e+00 7.0000e+00 9.1740e+03 1.0000e+00]\n",
      " [2.3000e+01 3.2000e+00 2.0000e+00 5.0000e+00 1.0130e+04 1.0000e+00]\n",
      " [5.0000e+00 9.0000e+00 2.2000e+00 5.0000e+00 3.9990e+03 0.0000e+00]\n",
      " [2.7000e+01 2.0000e+00 3.0000e+00 7.0000e+00 1.1697e+04 1.0000e+00]\n",
      " [3.0000e+01 1.1000e+00 2.4000e+00 5.0000e+00 1.2187e+04 1.0000e+00]\n",
      " [9.0000e+00 7.1000e+00 1.4000e+00 5.0000e+00 6.4450e+03 0.0000e+00]\n",
      " [1.5000e+01 4.9000e+00 3.2000e+00 5.0000e+00 6.1110e+03 0.0000e+00]\n",
      " [1.8000e+01 4.0000e+00 2.2000e+00 5.0000e+00 8.3090e+03 0.0000e+00]]\n"
     ]
    }
   ],
   "source": [
    "print (X_train)"
   ]
  },
  {
   "cell_type": "code",
   "execution_count": 5,
   "id": "663235fb-c919-4787-a4b6-243ec4ef4907",
   "metadata": {},
   "outputs": [
    {
     "name": "stdout",
     "output_type": "stream",
     "text": [
      "[1 1 0 1 0 1 0 0 1 1 0 1 0 0 1 0 1 1 1 0 0 1 1 1]\n"
     ]
    }
   ],
   "source": [
    "print (y_train)"
   ]
  },
  {
   "cell_type": "code",
   "execution_count": 6,
   "id": "3dc9edb0-dfcb-4fc3-b5ed-35d57d3d3e0e",
   "metadata": {},
   "outputs": [
    {
     "name": "stdout",
     "output_type": "stream",
     "text": [
      "[[2.8000e+01 1.5000e+00 1.4000e+00 5.0000e+00 1.1264e+04 1.0000e+00]\n",
      " [2.0000e+00 1.0300e+01 1.8000e+00 5.0000e+00 4.6210e+03 0.0000e+00]\n",
      " [1.7000e+01 4.1000e+00 1.8000e+00 5.0000e+00 6.6030e+03 1.0000e+00]\n",
      " [2.0000e+01 3.9000e+00 1.8000e+00 5.0000e+00 9.3940e+03 0.0000e+00]\n",
      " [4.0000e+00 9.5000e+00 1.6000e+00 7.0000e+00 4.3530e+03 0.0000e+00]\n",
      " [6.0000e+00 8.7000e+00 2.4000e+00 5.0000e+00 5.6640e+03 0.0000e+00]]\n"
     ]
    }
   ],
   "source": [
    "print (X_test)"
   ]
  },
  {
   "cell_type": "code",
   "execution_count": 7,
   "id": "8c50a6f6-9585-44b8-aa60-8c5ff82442ee",
   "metadata": {},
   "outputs": [
    {
     "name": "stdout",
     "output_type": "stream",
     "text": [
      "[1 1 1 0 1 1]\n"
     ]
    }
   ],
   "source": [
    "print (y_test)"
   ]
  },
  {
   "cell_type": "code",
   "execution_count": 8,
   "id": "572e362f-ac1c-46f8-8ced-806d5787ec02",
   "metadata": {},
   "outputs": [],
   "source": [
    "from sklearn.preprocessing import StandardScaler\n",
    "sc = StandardScaler()\n",
    "X_train = sc.fit_transform(X_train)\n",
    "X_test = sc.transform(X_test)"
   ]
  },
  {
   "cell_type": "code",
   "execution_count": 9,
   "id": "dcb5485d-5f84-44c3-9966-0453b32151b0",
   "metadata": {},
   "outputs": [
    {
     "name": "stdout",
     "output_type": "stream",
     "text": [
      "[[-1.58635817  1.75832984 -0.39913716 -0.64168895 -1.46842727  0.64168895]\n",
      " [ 0.34136821 -0.40973925  1.91310572 -0.64168895  0.14048311  0.64168895]\n",
      " [-0.38152918  0.09356251  1.25246489  1.55838744 -0.75929716  0.64168895]\n",
      " [-0.98394368  1.10016601 -0.06881675 -0.64168895 -0.85185653  0.64168895]\n",
      " [ 1.06426561 -0.83560996 -0.72945758 -0.64168895  1.17559919  0.64168895]\n",
      " [-0.26104628  0.01613147 -0.39913716 -0.64168895 -0.75487201  0.64168895]\n",
      " [ 0.70281691 -0.7194634  -0.72945758 -0.64168895  0.76406034  0.64168895]\n",
      " [-0.02008048 -0.21616165 -0.72945758  1.55838744 -0.35439604  0.64168895]\n",
      " [-1.10442658  1.21631257 -1.05977799 -0.64168895 -0.64166195 -1.55838744]\n",
      " [-0.74297788  0.6742953  -0.06881675 -0.64168895 -0.75081563  0.64168895]\n",
      " [ 1.54619721 -1.45505827 -0.06881675  1.55838744  1.65351527  0.64168895]\n",
      " [-1.82732397  2.10676952 -1.05977799 -0.64168895 -1.40905652 -1.55838744]\n",
      " [ 0.94378271 -0.79689444  1.5827853   1.55838744  1.33711712  0.64168895]\n",
      " [ 1.18474851 -1.1066186   1.91310572 -0.64168895  1.03362566  0.64168895]\n",
      " [-0.50201208  0.32585562 -0.72945758  1.55838744 -0.80244236  0.64168895]\n",
      " [-0.62249498  0.36457114 -1.05977799 -0.64168895 -0.52845189 -1.55838744]\n",
      " [ 0.58233401 -0.52588581 -0.72945758  1.55838744  0.52325849  0.64168895]\n",
      " [ 0.82329981 -0.7194634  -0.39913716 -0.64168895  0.87579535  0.64168895]\n",
      " [-1.34539238  1.52603672 -0.06881675 -0.64168895 -1.38508697 -1.55838744]\n",
      " [ 1.30523141 -1.18404964  1.25246489  1.55838744  1.45364604  0.64168895]\n",
      " [ 1.66668011 -1.53248931  0.26150366 -0.64168895  1.63433962  0.64168895]\n",
      " [-0.86346078  0.79044186 -1.3900984  -0.64168895 -0.48309412 -1.55838744]\n",
      " [-0.14056338 -0.06129957  1.5827853  -0.64168895 -0.60626076 -1.55838744]\n",
      " [ 0.22088532 -0.40973925 -0.06881675 -0.64168895  0.20427901 -1.55838744]]\n"
     ]
    }
   ],
   "source": [
    "print (X_train)"
   ]
  },
  {
   "cell_type": "code",
   "execution_count": 10,
   "id": "7fff9a3d-7f52-476f-a385-bcab78165c32",
   "metadata": {},
   "outputs": [
    {
     "name": "stderr",
     "output_type": "stream",
     "text": [
      "C:\\Users\\marce\\anaconda3\\lib\\site-packages\\sklearn\\svm\\_classes.py:32: FutureWarning: The default value of `dual` will change from `True` to `'auto'` in 1.5. Set the value of `dual` explicitly to suppress the warning.\n",
      "  warnings.warn(\n"
     ]
    },
    {
     "data": {
      "text/html": [
       "<style>#sk-container-id-1 {color: black;}#sk-container-id-1 pre{padding: 0;}#sk-container-id-1 div.sk-toggleable {background-color: white;}#sk-container-id-1 label.sk-toggleable__label {cursor: pointer;display: block;width: 100%;margin-bottom: 0;padding: 0.3em;box-sizing: border-box;text-align: center;}#sk-container-id-1 label.sk-toggleable__label-arrow:before {content: \"▸\";float: left;margin-right: 0.25em;color: #696969;}#sk-container-id-1 label.sk-toggleable__label-arrow:hover:before {color: black;}#sk-container-id-1 div.sk-estimator:hover label.sk-toggleable__label-arrow:before {color: black;}#sk-container-id-1 div.sk-toggleable__content {max-height: 0;max-width: 0;overflow: hidden;text-align: left;background-color: #f0f8ff;}#sk-container-id-1 div.sk-toggleable__content pre {margin: 0.2em;color: black;border-radius: 0.25em;background-color: #f0f8ff;}#sk-container-id-1 input.sk-toggleable__control:checked~div.sk-toggleable__content {max-height: 200px;max-width: 100%;overflow: auto;}#sk-container-id-1 input.sk-toggleable__control:checked~label.sk-toggleable__label-arrow:before {content: \"▾\";}#sk-container-id-1 div.sk-estimator input.sk-toggleable__control:checked~label.sk-toggleable__label {background-color: #d4ebff;}#sk-container-id-1 div.sk-label input.sk-toggleable__control:checked~label.sk-toggleable__label {background-color: #d4ebff;}#sk-container-id-1 input.sk-hidden--visually {border: 0;clip: rect(1px 1px 1px 1px);clip: rect(1px, 1px, 1px, 1px);height: 1px;margin: -1px;overflow: hidden;padding: 0;position: absolute;width: 1px;}#sk-container-id-1 div.sk-estimator {font-family: monospace;background-color: #f0f8ff;border: 1px dotted black;border-radius: 0.25em;box-sizing: border-box;margin-bottom: 0.5em;}#sk-container-id-1 div.sk-estimator:hover {background-color: #d4ebff;}#sk-container-id-1 div.sk-parallel-item::after {content: \"\";width: 100%;border-bottom: 1px solid gray;flex-grow: 1;}#sk-container-id-1 div.sk-label:hover label.sk-toggleable__label {background-color: #d4ebff;}#sk-container-id-1 div.sk-serial::before {content: \"\";position: absolute;border-left: 1px solid gray;box-sizing: border-box;top: 0;bottom: 0;left: 50%;z-index: 0;}#sk-container-id-1 div.sk-serial {display: flex;flex-direction: column;align-items: center;background-color: white;padding-right: 0.2em;padding-left: 0.2em;position: relative;}#sk-container-id-1 div.sk-item {position: relative;z-index: 1;}#sk-container-id-1 div.sk-parallel {display: flex;align-items: stretch;justify-content: center;background-color: white;position: relative;}#sk-container-id-1 div.sk-item::before, #sk-container-id-1 div.sk-parallel-item::before {content: \"\";position: absolute;border-left: 1px solid gray;box-sizing: border-box;top: 0;bottom: 0;left: 50%;z-index: -1;}#sk-container-id-1 div.sk-parallel-item {display: flex;flex-direction: column;z-index: 1;position: relative;background-color: white;}#sk-container-id-1 div.sk-parallel-item:first-child::after {align-self: flex-end;width: 50%;}#sk-container-id-1 div.sk-parallel-item:last-child::after {align-self: flex-start;width: 50%;}#sk-container-id-1 div.sk-parallel-item:only-child::after {width: 0;}#sk-container-id-1 div.sk-dashed-wrapped {border: 1px dashed gray;margin: 0 0.4em 0.5em 0.4em;box-sizing: border-box;padding-bottom: 0.4em;background-color: white;}#sk-container-id-1 div.sk-label label {font-family: monospace;font-weight: bold;display: inline-block;line-height: 1.2em;}#sk-container-id-1 div.sk-label-container {text-align: center;}#sk-container-id-1 div.sk-container {/* jupyter's `normalize.less` sets `[hidden] { display: none; }` but bootstrap.min.css set `[hidden] { display: none !important; }` so we also need the `!important` here to be able to override the default hidden behavior on the sphinx rendered scikit-learn.org. See: https://github.com/scikit-learn/scikit-learn/issues/21755 */display: inline-block !important;position: relative;}#sk-container-id-1 div.sk-text-repr-fallback {display: none;}</style><div id=\"sk-container-id-1\" class=\"sk-top-container\"><div class=\"sk-text-repr-fallback\"><pre>LinearSVC(random_state=0)</pre><b>In a Jupyter environment, please rerun this cell to show the HTML representation or trust the notebook. <br />On GitHub, the HTML representation is unable to render, please try loading this page with nbviewer.org.</b></div><div class=\"sk-container\" hidden><div class=\"sk-item\"><div class=\"sk-estimator sk-toggleable\"><input class=\"sk-toggleable__control sk-hidden--visually\" id=\"sk-estimator-id-1\" type=\"checkbox\" checked><label for=\"sk-estimator-id-1\" class=\"sk-toggleable__label sk-toggleable__label-arrow\">LinearSVC</label><div class=\"sk-toggleable__content\"><pre>LinearSVC(random_state=0)</pre></div></div></div></div></div>"
      ],
      "text/plain": [
       "LinearSVC(random_state=0)"
      ]
     },
     "execution_count": 10,
     "metadata": {},
     "output_type": "execute_result"
    }
   ],
   "source": [
    "from sklearn.svm import LinearSVC\n",
    "classifier = LinearSVC (random_state = 0)\n",
    "classifier.fit(X_train, y_train)"
   ]
  },
  {
   "cell_type": "code",
   "execution_count": 12,
   "id": "588dc39c-f2e7-44f8-ad5d-c25d210ce634",
   "metadata": {},
   "outputs": [
    {
     "ename": "ValueError",
     "evalue": "X has 4 features, but StandardScaler is expecting 6 features as input.",
     "output_type": "error",
     "traceback": [
      "\u001b[1;31m---------------------------------------------------------------------------\u001b[0m",
      "\u001b[1;31mValueError\u001b[0m                                Traceback (most recent call last)",
      "Cell \u001b[1;32mIn[12], line 1\u001b[0m\n\u001b[1;32m----> 1\u001b[0m \u001b[38;5;28mprint\u001b[39m(classifier\u001b[38;5;241m.\u001b[39mpredict(\u001b[43msc\u001b[49m\u001b[38;5;241;43m.\u001b[39;49m\u001b[43mtransform\u001b[49m\u001b[43m(\u001b[49m\u001b[43m[\u001b[49m\u001b[43m[\u001b[49m\u001b[38;5;241;43m1.1\u001b[39;49m\u001b[43m,\u001b[49m\u001b[38;5;241;43m2.4\u001b[39;49m\u001b[43m,\u001b[49m\u001b[38;5;241;43m5\u001b[39;49m\u001b[43m,\u001b[49m\u001b[38;5;241;43m12187\u001b[39;49m\u001b[43m]\u001b[49m\u001b[43m]\u001b[49m\u001b[43m)\u001b[49m))\n",
      "File \u001b[1;32m~\\anaconda3\\lib\\site-packages\\sklearn\\utils\\_set_output.py:140\u001b[0m, in \u001b[0;36m_wrap_method_output.<locals>.wrapped\u001b[1;34m(self, X, *args, **kwargs)\u001b[0m\n\u001b[0;32m    138\u001b[0m \u001b[38;5;129m@wraps\u001b[39m(f)\n\u001b[0;32m    139\u001b[0m \u001b[38;5;28;01mdef\u001b[39;00m \u001b[38;5;21mwrapped\u001b[39m(\u001b[38;5;28mself\u001b[39m, X, \u001b[38;5;241m*\u001b[39margs, \u001b[38;5;241m*\u001b[39m\u001b[38;5;241m*\u001b[39mkwargs):\n\u001b[1;32m--> 140\u001b[0m     data_to_wrap \u001b[38;5;241m=\u001b[39m f(\u001b[38;5;28mself\u001b[39m, X, \u001b[38;5;241m*\u001b[39margs, \u001b[38;5;241m*\u001b[39m\u001b[38;5;241m*\u001b[39mkwargs)\n\u001b[0;32m    141\u001b[0m     \u001b[38;5;28;01mif\u001b[39;00m \u001b[38;5;28misinstance\u001b[39m(data_to_wrap, \u001b[38;5;28mtuple\u001b[39m):\n\u001b[0;32m    142\u001b[0m         \u001b[38;5;66;03m# only wrap the first output for cross decomposition\u001b[39;00m\n\u001b[0;32m    143\u001b[0m         return_tuple \u001b[38;5;241m=\u001b[39m (\n\u001b[0;32m    144\u001b[0m             _wrap_data_with_container(method, data_to_wrap[\u001b[38;5;241m0\u001b[39m], X, \u001b[38;5;28mself\u001b[39m),\n\u001b[0;32m    145\u001b[0m             \u001b[38;5;241m*\u001b[39mdata_to_wrap[\u001b[38;5;241m1\u001b[39m:],\n\u001b[0;32m    146\u001b[0m         )\n",
      "File \u001b[1;32m~\\anaconda3\\lib\\site-packages\\sklearn\\preprocessing\\_data.py:1004\u001b[0m, in \u001b[0;36mStandardScaler.transform\u001b[1;34m(self, X, copy)\u001b[0m\n\u001b[0;32m   1001\u001b[0m check_is_fitted(\u001b[38;5;28mself\u001b[39m)\n\u001b[0;32m   1003\u001b[0m copy \u001b[38;5;241m=\u001b[39m copy \u001b[38;5;28;01mif\u001b[39;00m copy \u001b[38;5;129;01mis\u001b[39;00m \u001b[38;5;129;01mnot\u001b[39;00m \u001b[38;5;28;01mNone\u001b[39;00m \u001b[38;5;28;01melse\u001b[39;00m \u001b[38;5;28mself\u001b[39m\u001b[38;5;241m.\u001b[39mcopy\n\u001b[1;32m-> 1004\u001b[0m X \u001b[38;5;241m=\u001b[39m \u001b[38;5;28;43mself\u001b[39;49m\u001b[38;5;241;43m.\u001b[39;49m\u001b[43m_validate_data\u001b[49m\u001b[43m(\u001b[49m\n\u001b[0;32m   1005\u001b[0m \u001b[43m    \u001b[49m\u001b[43mX\u001b[49m\u001b[43m,\u001b[49m\n\u001b[0;32m   1006\u001b[0m \u001b[43m    \u001b[49m\u001b[43mreset\u001b[49m\u001b[38;5;241;43m=\u001b[39;49m\u001b[38;5;28;43;01mFalse\u001b[39;49;00m\u001b[43m,\u001b[49m\n\u001b[0;32m   1007\u001b[0m \u001b[43m    \u001b[49m\u001b[43maccept_sparse\u001b[49m\u001b[38;5;241;43m=\u001b[39;49m\u001b[38;5;124;43m\"\u001b[39;49m\u001b[38;5;124;43mcsr\u001b[39;49m\u001b[38;5;124;43m\"\u001b[39;49m\u001b[43m,\u001b[49m\n\u001b[0;32m   1008\u001b[0m \u001b[43m    \u001b[49m\u001b[43mcopy\u001b[49m\u001b[38;5;241;43m=\u001b[39;49m\u001b[43mcopy\u001b[49m\u001b[43m,\u001b[49m\n\u001b[0;32m   1009\u001b[0m \u001b[43m    \u001b[49m\u001b[43mdtype\u001b[49m\u001b[38;5;241;43m=\u001b[39;49m\u001b[43mFLOAT_DTYPES\u001b[49m\u001b[43m,\u001b[49m\n\u001b[0;32m   1010\u001b[0m \u001b[43m    \u001b[49m\u001b[43mforce_all_finite\u001b[49m\u001b[38;5;241;43m=\u001b[39;49m\u001b[38;5;124;43m\"\u001b[39;49m\u001b[38;5;124;43mallow-nan\u001b[39;49m\u001b[38;5;124;43m\"\u001b[39;49m\u001b[43m,\u001b[49m\n\u001b[0;32m   1011\u001b[0m \u001b[43m\u001b[49m\u001b[43m)\u001b[49m\n\u001b[0;32m   1013\u001b[0m \u001b[38;5;28;01mif\u001b[39;00m sparse\u001b[38;5;241m.\u001b[39missparse(X):\n\u001b[0;32m   1014\u001b[0m     \u001b[38;5;28;01mif\u001b[39;00m \u001b[38;5;28mself\u001b[39m\u001b[38;5;241m.\u001b[39mwith_mean:\n",
      "File \u001b[1;32m~\\anaconda3\\lib\\site-packages\\sklearn\\base.py:625\u001b[0m, in \u001b[0;36mBaseEstimator._validate_data\u001b[1;34m(self, X, y, reset, validate_separately, cast_to_ndarray, **check_params)\u001b[0m\n\u001b[0;32m    622\u001b[0m     out \u001b[38;5;241m=\u001b[39m X, y\n\u001b[0;32m    624\u001b[0m \u001b[38;5;28;01mif\u001b[39;00m \u001b[38;5;129;01mnot\u001b[39;00m no_val_X \u001b[38;5;129;01mand\u001b[39;00m check_params\u001b[38;5;241m.\u001b[39mget(\u001b[38;5;124m\"\u001b[39m\u001b[38;5;124mensure_2d\u001b[39m\u001b[38;5;124m\"\u001b[39m, \u001b[38;5;28;01mTrue\u001b[39;00m):\n\u001b[1;32m--> 625\u001b[0m     \u001b[38;5;28;43mself\u001b[39;49m\u001b[38;5;241;43m.\u001b[39;49m\u001b[43m_check_n_features\u001b[49m\u001b[43m(\u001b[49m\u001b[43mX\u001b[49m\u001b[43m,\u001b[49m\u001b[43m \u001b[49m\u001b[43mreset\u001b[49m\u001b[38;5;241;43m=\u001b[39;49m\u001b[43mreset\u001b[49m\u001b[43m)\u001b[49m\n\u001b[0;32m    627\u001b[0m \u001b[38;5;28;01mreturn\u001b[39;00m out\n",
      "File \u001b[1;32m~\\anaconda3\\lib\\site-packages\\sklearn\\base.py:414\u001b[0m, in \u001b[0;36mBaseEstimator._check_n_features\u001b[1;34m(self, X, reset)\u001b[0m\n\u001b[0;32m    411\u001b[0m     \u001b[38;5;28;01mreturn\u001b[39;00m\n\u001b[0;32m    413\u001b[0m \u001b[38;5;28;01mif\u001b[39;00m n_features \u001b[38;5;241m!=\u001b[39m \u001b[38;5;28mself\u001b[39m\u001b[38;5;241m.\u001b[39mn_features_in_:\n\u001b[1;32m--> 414\u001b[0m     \u001b[38;5;28;01mraise\u001b[39;00m \u001b[38;5;167;01mValueError\u001b[39;00m(\n\u001b[0;32m    415\u001b[0m         \u001b[38;5;124mf\u001b[39m\u001b[38;5;124m\"\u001b[39m\u001b[38;5;124mX has \u001b[39m\u001b[38;5;132;01m{\u001b[39;00mn_features\u001b[38;5;132;01m}\u001b[39;00m\u001b[38;5;124m features, but \u001b[39m\u001b[38;5;132;01m{\u001b[39;00m\u001b[38;5;28mself\u001b[39m\u001b[38;5;241m.\u001b[39m\u001b[38;5;18m__class__\u001b[39m\u001b[38;5;241m.\u001b[39m\u001b[38;5;18m__name__\u001b[39m\u001b[38;5;132;01m}\u001b[39;00m\u001b[38;5;124m \u001b[39m\u001b[38;5;124m\"\u001b[39m\n\u001b[0;32m    416\u001b[0m         \u001b[38;5;124mf\u001b[39m\u001b[38;5;124m\"\u001b[39m\u001b[38;5;124mis expecting \u001b[39m\u001b[38;5;132;01m{\u001b[39;00m\u001b[38;5;28mself\u001b[39m\u001b[38;5;241m.\u001b[39mn_features_in_\u001b[38;5;132;01m}\u001b[39;00m\u001b[38;5;124m features as input.\u001b[39m\u001b[38;5;124m\"\u001b[39m\n\u001b[0;32m    417\u001b[0m     )\n",
      "\u001b[1;31mValueError\u001b[0m: X has 4 features, but StandardScaler is expecting 6 features as input."
     ]
    }
   ],
   "source": [
    "print(classifier.predict(sc.transform([[1.1,2.4,5,12187]])))"
   ]
  },
  {
   "cell_type": "code",
   "execution_count": null,
   "id": "6d973ea3-4633-4e5c-9985-44cc0533ecf4",
   "metadata": {},
   "outputs": [],
   "source": [
    "y_pred = classifier.predict(X_test)"
   ]
  },
  {
   "cell_type": "code",
   "execution_count": null,
   "id": "e28d5fe6-b44c-4bdc-bf20-045de3a88438",
   "metadata": {},
   "outputs": [],
   "source": [
    "print (y_pred, y_test)"
   ]
  },
  {
   "cell_type": "code",
   "execution_count": null,
   "id": "e310cb00-4cc5-4676-b25d-7c2c75cab585",
   "metadata": {},
   "outputs": [],
   "source": [
    "from sklearn.metrics import confusion_matrix\n",
    "cm = confusion_matrix (y_test, y_pred)\n",
    "print (cm)"
   ]
  },
  {
   "cell_type": "code",
   "execution_count": null,
   "id": "8d82e197-7de9-47cb-bc5c-03df67742469",
   "metadata": {},
   "outputs": [],
   "source": [
    "from sklearn.metrics import accuracy_score\n",
    "ac = accuracy_score (y_test, y_pred)\n",
    "print (ac)"
   ]
  }
 ],
 "metadata": {
  "kernelspec": {
   "display_name": "Python 3 (ipykernel)",
   "language": "python",
   "name": "python3"
  },
  "language_info": {
   "codemirror_mode": {
    "name": "ipython",
    "version": 3
   },
   "file_extension": ".py",
   "mimetype": "text/x-python",
   "name": "python",
   "nbconvert_exporter": "python",
   "pygments_lexer": "ipython3",
   "version": "3.10.13"
  }
 },
 "nbformat": 4,
 "nbformat_minor": 5
}
