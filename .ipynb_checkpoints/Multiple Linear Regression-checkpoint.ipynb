{
 "cells": [
  {
   "cell_type": "code",
   "execution_count": null,
   "id": "86d3c758-2adc-4701-b31e-5d04c51c84e6",
   "metadata": {},
   "outputs": [],
   "source": [
    "import numpy as np\n",
    "import matplotlib.pyplot as plt\n",
    "import pandas as pd"
   ]
  },
  {
   "cell_type": "code",
   "execution_count": null,
   "id": "ac5e19d7-cb01-4f17-aa21-8b4297878ee4",
   "metadata": {},
   "outputs": [],
   "source": [
    "dataset = pd.read_csv ('MCar_Data.csv')"
   ]
  },
  {
   "cell_type": "code",
   "execution_count": null,
   "id": "568a74d7-b57b-4bc5-bf28-8b58af7587ae",
   "metadata": {},
   "outputs": [],
   "source": [
    "x = dataset.iloc[: :-1].values\n",
    "y = dataset.iloc[:, -1].values"
   ]
  },
  {
   "cell_type": "code",
   "execution_count": null,
   "id": "3989c574-2f98-4f43-b214-d03693972a08",
   "metadata": {},
   "outputs": [],
   "source": [
    "print (x)"
   ]
  },
  {
   "cell_type": "code",
   "execution_count": null,
   "id": "bb5e8d36-52cb-45ca-b689-2f0d3d12940f",
   "metadata": {},
   "outputs": [],
   "source": [
    "print (y)"
   ]
  },
  {
   "cell_type": "code",
   "execution_count": null,
   "id": "2f40cc19-bdaa-4e7a-a15c-f11d0c6ac43f",
   "metadata": {},
   "outputs": [],
   "source": [
    "from sklearn.model_selection import train_test_split\n",
    "X_train, X_test, y_train, y_test = train_test_split (x, y, test_size = 0.2, random_state = 0)"
   ]
  },
  {
   "cell_type": "code",
   "execution_count": null,
   "id": "f580350d-3f19-4615-a3f9-78937ee680ca",
   "metadata": {},
   "outputs": [],
   "source": [
    "from sklearn.linear_model import LinearRegression\n",
    "regressor = LinearRegression ()\n",
    "regressor.fit (X_train,y_train)"
   ]
  },
  {
   "cell_type": "code",
   "execution_count": null,
   "id": "df97da4c-6f46-4d54-a44d-21b499841056",
   "metadata": {},
   "outputs": [],
   "source": [
    "y_pred = regressor.predict(X_test)"
   ]
  },
  {
   "cell_type": "code",
   "execution_count": null,
   "id": "230f4d4d-5289-41f2-81b1-28fd25fece50",
   "metadata": {},
   "outputs": [],
   "source": [
    "print (regressor.predict([[9,3,7]]))"
   ]
  },
  {
   "cell_type": "code",
   "execution_count": null,
   "id": "0573851e-0995-470c-9d4f-f1d034599ff3",
   "metadata": {},
   "outputs": [],
   "source": [
    "print (regressor.coaf_)\n",
    "print (regressor.intercept_)"
   ]
  }
 ],
 "metadata": {
  "kernelspec": {
   "display_name": "Python 3 (ipykernel)",
   "language": "python",
   "name": "python3"
  },
  "language_info": {
   "codemirror_mode": {
    "name": "ipython",
    "version": 3
   },
   "file_extension": ".py",
   "mimetype": "text/x-python",
   "name": "python",
   "nbconvert_exporter": "python",
   "pygments_lexer": "ipython3",
   "version": "3.10.13"
  }
 },
 "nbformat": 4,
 "nbformat_minor": 5
}
