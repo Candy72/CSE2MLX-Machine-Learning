{
 "cells": [
  {
   "cell_type": "code",
   "execution_count": 1,
   "id": "482342b8",
   "metadata": {},
   "outputs": [],
   "source": [
    "import numpy as np\n",
    "import matplotlib.pyplot as plt\n",
    "import pandas as pd"
   ]
  },
  {
   "cell_type": "code",
   "execution_count": 2,
   "id": "af866275",
   "metadata": {},
   "outputs": [],
   "source": [
    "dataset = pd.read_csv ('cartestdata.csv')"
   ]
  },
  {
   "cell_type": "code",
   "execution_count": 3,
   "id": "0d1dd1b6",
   "metadata": {},
   "outputs": [],
   "source": [
    "x = dataset.iloc[: :-1].values\n",
    "y = dataset.iloc[:, -1].values"
   ]
  },
  {
   "cell_type": "code",
   "execution_count": 4,
   "id": "5f5b6202",
   "metadata": {
    "scrolled": true
   },
   "outputs": [
    {
     "name": "stdout",
     "output_type": "stream",
     "text": [
      "[['BMW' 10 236640.0 6000.0 'Yes']\n",
      " ['Benz' 7 nan 19000.0 'No']\n",
      " ['Nissan' 3 52000.0 22000.0 'No']\n",
      " ['Mazda' 1 17000.0 35000.0 'Yes']\n",
      " ['Toyota' 10 149040.0 4800.0 'No']\n",
      " ['BMW' 6 210000.0 nan 'No']\n",
      " ['Benz' 4 60000.0 40000.0 'Yes']\n",
      " ['Nissan' 1 5700.0 30000.0 'Yes']\n",
      " ['Mazda' 2 21000.0 20000.0 'No']\n",
      " ['Toyota' 8 120000.0 10000.0 'Yes']]\n"
     ]
    }
   ],
   "source": [
    "print (x)"
   ]
  },
  {
   "cell_type": "code",
   "execution_count": 5,
   "id": "440835cb",
   "metadata": {},
   "outputs": [
    {
     "name": "stdout",
     "output_type": "stream",
     "text": [
      "['Yes' 'No' 'Yes' 'Yes' 'No' 'No' 'Yes' 'No' 'No' 'Yes']\n"
     ]
    }
   ],
   "source": [
    "print (y)"
   ]
  },
  {
   "cell_type": "code",
   "execution_count": 6,
   "id": "98c8b542",
   "metadata": {},
   "outputs": [],
   "source": [
    "from sklearn.impute import SimpleImputer\n",
    "imputer = SimpleImputer(missing_values=np.nan, strategy='mean')\n",
    "imputer.fit(x[:, 1:4])\n",
    "x[:, 1:4] = imputer.transform(x[:, 1:4])"
   ]
  },
  {
   "cell_type": "code",
   "execution_count": 7,
   "id": "0472eb99",
   "metadata": {},
   "outputs": [
    {
     "name": "stdout",
     "output_type": "stream",
     "text": [
      "[['BMW' 10.0 236640.0 6000.0 'Yes']\n",
      " ['Benz' 7.0 96820.0 19000.0 'No']\n",
      " ['Nissan' 3.0 52000.0 22000.0 'No']\n",
      " ['Mazda' 1.0 17000.0 35000.0 'Yes']\n",
      " ['Toyota' 10.0 149040.0 4800.0 'No']\n",
      " ['BMW' 6.0 210000.0 20755.555555555555 'No']\n",
      " ['Benz' 4.0 60000.0 40000.0 'Yes']\n",
      " ['Nissan' 1.0 5700.0 30000.0 'Yes']\n",
      " ['Mazda' 2.0 21000.0 20000.0 'No']\n",
      " ['Toyota' 8.0 120000.0 10000.0 'Yes']]\n"
     ]
    }
   ],
   "source": [
    "print (x)"
   ]
  },
  {
   "cell_type": "code",
   "execution_count": 9,
   "id": "b91a5321",
   "metadata": {},
   "outputs": [],
   "source": [
    "from sklearn.compose import ColumnTransformer\n",
    "from sklearn.preprocessing import OneHotEncoder"
   ]
  },
  {
   "cell_type": "code",
   "execution_count": 11,
   "id": "010b6c89",
   "metadata": {},
   "outputs": [],
   "source": [
    "ct = ColumnTransformer(transformers=[('encoder', OneHotEncoder(), [0])], remainder='passthrough')"
   ]
  },
  {
   "cell_type": "code",
   "execution_count": 12,
   "id": "a843f3c9",
   "metadata": {},
   "outputs": [],
   "source": [
    "x = np.array(ct.fit_transform(x))"
   ]
  },
  {
   "cell_type": "code",
   "execution_count": 13,
   "id": "27227808",
   "metadata": {},
   "outputs": [
    {
     "name": "stdout",
     "output_type": "stream",
     "text": [
      "[[1.0 0.0 0.0 0.0 0.0 10.0 236640.0 6000.0 'Yes']\n",
      " [0.0 1.0 0.0 0.0 0.0 7.0 96820.0 19000.0 'No']\n",
      " [0.0 0.0 0.0 1.0 0.0 3.0 52000.0 22000.0 'No']\n",
      " [0.0 0.0 1.0 0.0 0.0 1.0 17000.0 35000.0 'Yes']\n",
      " [0.0 0.0 0.0 0.0 1.0 10.0 149040.0 4800.0 'No']\n",
      " [1.0 0.0 0.0 0.0 0.0 6.0 210000.0 20755.555555555555 'No']\n",
      " [0.0 1.0 0.0 0.0 0.0 4.0 60000.0 40000.0 'Yes']\n",
      " [0.0 0.0 0.0 1.0 0.0 1.0 5700.0 30000.0 'Yes']\n",
      " [0.0 0.0 1.0 0.0 0.0 2.0 21000.0 20000.0 'No']\n",
      " [0.0 0.0 0.0 0.0 1.0 8.0 120000.0 10000.0 'Yes']]\n"
     ]
    }
   ],
   "source": [
    "print (x)"
   ]
  },
  {
   "cell_type": "code",
   "execution_count": 16,
   "id": "3c5cf2b9",
   "metadata": {},
   "outputs": [],
   "source": [
    "from sklearn.preprocessing import LabelEncoder\n",
    "le = LabelEncoder()\n",
    "y = le.fit_transform(x[:, 0])  # If x is a numpy array"
   ]
  },
  {
   "cell_type": "code",
   "execution_count": 17,
   "id": "a6c0ff98",
   "metadata": {},
   "outputs": [
    {
     "name": "stdout",
     "output_type": "stream",
     "text": [
      "[1 0 0 0 0 1 0 0 0 0]\n"
     ]
    }
   ],
   "source": [
    "print (y)\n"
   ]
  },
  {
   "cell_type": "code",
   "execution_count": 18,
   "id": "cee91150",
   "metadata": {},
   "outputs": [
    {
     "ename": "NameError",
     "evalue": "name 'X' is not defined",
     "output_type": "error",
     "traceback": [
      "\u001b[1;31m---------------------------------------------------------------------------\u001b[0m",
      "\u001b[1;31mNameError\u001b[0m                                 Traceback (most recent call last)",
      "Cell \u001b[1;32mIn[18], line 2\u001b[0m\n\u001b[0;32m      1\u001b[0m \u001b[38;5;28;01mfrom\u001b[39;00m \u001b[38;5;21;01msklearn\u001b[39;00m\u001b[38;5;21;01m.\u001b[39;00m\u001b[38;5;21;01mmodel_selection\u001b[39;00m \u001b[38;5;28;01mimport\u001b[39;00m train_test_split\n\u001b[1;32m----> 2\u001b[0m X_train, X_test, y_train, y_test \u001b[38;5;241m=\u001b[39m train_test_split (\u001b[43mX\u001b[49m,y, test_size \u001b[38;5;241m=\u001b[39m \u001b[38;5;241m0.2\u001b[39m, random_state \u001b[38;5;241m=\u001b[39m \u001b[38;5;241m0\u001b[39m)\n",
      "\u001b[1;31mNameError\u001b[0m: name 'X' is not defined"
     ]
    }
   ],
   "source": [
    "from sklearn.model_selection import train_test_split\n",
    "X_train, X_test, y_train, y_test = train_test_split (X,y, test_size = 0.2, random_state = 0)"
   ]
  },
  {
   "cell_type": "code",
   "execution_count": null,
   "id": "bff7913e",
   "metadata": {},
   "outputs": [],
   "source": [
    "print (X_train)\n"
   ]
  },
  {
   "cell_type": "code",
   "execution_count": null,
   "id": "b89be71f",
   "metadata": {},
   "outputs": [],
   "source": [
    "print (X_test)\n"
   ]
  },
  {
   "cell_type": "code",
   "execution_count": null,
   "id": "498ed4e6",
   "metadata": {},
   "outputs": [],
   "source": [
    "print (y_train)"
   ]
  },
  {
   "cell_type": "code",
   "execution_count": null,
   "id": "0dc5ce54",
   "metadata": {},
   "outputs": [],
   "source": [
    "print (y_test)"
   ]
  },
  {
   "cell_type": "code",
   "execution_count": null,
   "id": "179044d1",
   "metadata": {},
   "outputs": [],
   "source": [
    "from sklearn.preprossessing import StandardScalar\n",
    "sc = StandardScalar()\n",
    "X_train = [:,5:] = sc.fit_transform ([X_train [:,5:])"
   ]
  },
  {
   "cell_type": "code",
   "execution_count": null,
   "id": "0c027a25",
   "metadata": {},
   "outputs": [],
   "source": [
    "print(X_train)"
   ]
  },
  {
   "cell_type": "code",
   "execution_count": null,
   "id": "03c9f40c",
   "metadata": {},
   "outputs": [],
   "source": [
    "X_test [:,5:] = sc.transform (X_test[:,5:])"
   ]
  },
  {
   "cell_type": "code",
   "execution_count": null,
   "id": "112da401",
   "metadata": {},
   "outputs": [],
   "source": [
    "print(X_train)"
   ]
  },
  {
   "cell_type": "code",
   "execution_count": 4,
   "id": "46ad58b4",
   "metadata": {},
   "outputs": [
    {
     "name": "stdout",
     "output_type": "stream",
     "text": [
      "C:\\Users\\marce\\CSE2MLX Machine Learning\n"
     ]
    }
   ],
   "source": [
    "import os\n",
    "print(os.getcwd())\n"
   ]
  },
  {
   "cell_type": "code",
   "execution_count": null,
   "id": "570630e7",
   "metadata": {},
   "outputs": [],
   "source": []
  }
 ],
 "metadata": {
  "kernelspec": {
   "display_name": "Python 3 (ipykernel)",
   "language": "python",
   "name": "python3"
  },
  "language_info": {
   "codemirror_mode": {
    "name": "ipython",
    "version": 3
   },
   "file_extension": ".py",
   "mimetype": "text/x-python",
   "name": "python",
   "nbconvert_exporter": "python",
   "pygments_lexer": "ipython3",
   "version": "3.10.13"
  }
 },
 "nbformat": 4,
 "nbformat_minor": 5
}
