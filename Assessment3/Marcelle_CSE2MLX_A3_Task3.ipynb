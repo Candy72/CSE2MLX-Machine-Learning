{
 "cells": [
  {
   "cell_type": "markdown",
   "id": "815e52cc-cfd9-40d5-8e15-69819c8777a5",
   "metadata": {},
   "source": [
    "# Table of Contents\n",
    "1. Data Preparation\n",
    "2. Model Selection\n",
    "3. Model Training\n",
    "4. Preparation for a Single Customer\n",
    "5. Test Det Prediction\n",
    "6. Mode Evaluation"
   ]
  },
  {
   "cell_type": "code",
   "execution_count": 8,
   "id": "9be9c977-6d8d-4089-b0e1-4881fa2758a4",
   "metadata": {},
   "outputs": [],
   "source": [
    "# Importing libraries\n",
    "import pandas as pd\n",
    "from sklearn.model_selection import train_test_split\n",
    "from sklearn.preprocessing import StandardScaler, OneHotEncoder\n",
    "from sklearn.compose import make_column_selector as selector\n",
    "from sklearn.compose import ColumnTransformer\n",
    "from sklearn.pipeline import Pipeline\n",
    "from tensorflow.keras.models import Sequential\n",
    "from tensorflow.keras.layers import Dense\n",
    "from sklearn.metrics import accuracy_score, confusion_matrix"
   ]
  },
  {
   "cell_type": "code",
   "execution_count": 9,
   "id": "936f512d-23fb-4307-8a2d-60de990abf88",
   "metadata": {},
   "outputs": [],
   "source": [
    "# Load the dataset\n",
    "# The dataset contains customer churn information, which is crucial for predicting customer behaviour.\n",
    "df = pd.read_csv(\"Telco-ANN.csv\")"
   ]
  },
  {
   "cell_type": "markdown",
   "id": "49060bd9-02d2-4bc3-a292-8b3413d8a594",
   "metadata": {},
   "source": [
    "# 1. Data Preparation"
   ]
  },
  {
   "cell_type": "code",
   "execution_count": 10,
   "id": "03bb6e0e-5b67-42e8-9ee1-6e200f59905f",
   "metadata": {},
   "outputs": [],
   "source": [
    "# Encoding 'Churn' as the target variable (what we are trying to predict) and transforming categorical 'Yes'/'No' values into binary (1/0) format.\n",
    "df['Churn'] = df['Churn'].map({'Yes':1, 'No':0})"
   ]
  },
  {
   "cell_type": "code",
   "execution_count": 11,
   "id": "bb19412e-43eb-4bc7-b3f3-59c6a8aec1df",
   "metadata": {},
   "outputs": [],
   "source": [
    "# Split data into features (X) and target (y).\n",
    "#'Churn' indicates if a customer has left the company.\n",
    "X = df.drop('Churn', axis=1)\n",
    "y = df['Churn']"
   ]
  },
  {
   "cell_type": "code",
   "execution_count": 12,
   "id": "81fadacb-37f7-41bd-885f-4e9045629a4d",
   "metadata": {},
   "outputs": [],
   "source": [
    "# Preprocessing: Encoding categorical variables and scaling numerical features\n",
    "preprocessing = ColumnTransformer(\n",
    "    transformers=[\n",
    "        ('num', StandardScaler(), selector(dtype_include=['int64', 'float64'])),\n",
    "        ('cat', OneHotEncoder(), selector(dtype_include=['object', 'bool']))\n",
    "    ])                                                    "
   ]
  },
  {
   "cell_type": "code",
   "execution_count": 13,
   "id": "f7830211-d553-422b-959d-9145d80745a8",
   "metadata": {},
   "outputs": [],
   "source": [
    "# Split dataset into 80% training and 20% test sets\n",
    "X_train, X_test, y_train, y_test = train_test_split(X, y, test_size=0.2, random_state=0)"
   ]
  },
  {
   "cell_type": "code",
   "execution_count": 15,
   "id": "00fc158d-dc63-488f-8aa5-f6dc08ad1011",
   "metadata": {},
   "outputs": [],
   "source": [
    "# Apply preprocessing transformations to training and test datasets.\n",
    "X_train = preprocessing.fit_transform(X_train)\n",
    "X_test = preprocessing.transform(X_test)"
   ]
  },
  {
   "cell_type": "markdown",
   "id": "9c0da201-2dbe-4eba-a10d-1ff14107bd31",
   "metadata": {},
   "source": [
    "# 2. Model Selection"
   ]
  },
  {
   "cell_type": "code",
   "execution_count": 17,
   "id": "fbf60b23-7e1b-4828-825a-3802bf2a13cb",
   "metadata": {},
   "outputs": [],
   "source": [
    "# Define the ANN model with three layers, two relu hidden layers, the first layer with 128 neurons, the second with 64 neurons and one sigmoid output layer for binary classification\n",
    "model = Sequential([\n",
    "    Dense(128, activation='relu', input_dim=X_train.shape[1]),\n",
    "    Dense(64, activation='relu'),\n",
    "    Dense(1, activation='sigmoid')\n",
    "])\n",
    "\n",
    "# Compiling the model prepares it for training by specifying optimizer, loss and metrics to evaluate during training.\n",
    "# 'adam' is used for efficiency, 'binary_crossentropy' for binary classification problems.\n",
    "model.compile(optimizer='adam', \n",
    "              loss='binary_crossentropy', \n",
    "              metrics=['accuracy'])"
   ]
  },
  {
   "cell_type": "markdown",
   "id": "3ed53194-11cb-443b-9625-080cc9981d91",
   "metadata": {},
   "source": [
    "# 3. Model Training"
   ]
  },
  {
   "cell_type": "code",
   "execution_count": 19,
   "id": "b4a67575-f8c8-4249-bc34-346fce85426c",
   "metadata": {},
   "outputs": [
    {
     "name": "stdout",
     "output_type": "stream",
     "text": [
      "Epoch 1/50\n",
      "159/159 - 1s - loss: 0.4574 - accuracy: 0.7655 - val_loss: 0.4075 - val_accuracy: 0.8245 - 1s/epoch - 8ms/step\n",
      "Epoch 2/50\n",
      "159/159 - 0s - loss: 0.4242 - accuracy: 0.7963 - val_loss: 0.4119 - val_accuracy: 0.8245 - 225ms/epoch - 1ms/step\n",
      "Epoch 3/50\n",
      "159/159 - 0s - loss: 0.4187 - accuracy: 0.7959 - val_loss: 0.4061 - val_accuracy: 0.8245 - 230ms/epoch - 1ms/step\n",
      "Epoch 4/50\n",
      "159/159 - 0s - loss: 0.4161 - accuracy: 0.7992 - val_loss: 0.4018 - val_accuracy: 0.8227 - 215ms/epoch - 1ms/step\n",
      "Epoch 5/50\n",
      "159/159 - 0s - loss: 0.4138 - accuracy: 0.7986 - val_loss: 0.4092 - val_accuracy: 0.8227 - 214ms/epoch - 1ms/step\n",
      "Epoch 6/50\n",
      "159/159 - 0s - loss: 0.4139 - accuracy: 0.7986 - val_loss: 0.4089 - val_accuracy: 0.8316 - 214ms/epoch - 1ms/step\n",
      "Epoch 7/50\n",
      "159/159 - 0s - loss: 0.4130 - accuracy: 0.8004 - val_loss: 0.4060 - val_accuracy: 0.8227 - 208ms/epoch - 1ms/step\n",
      "Epoch 8/50\n",
      "159/159 - 0s - loss: 0.4130 - accuracy: 0.7976 - val_loss: 0.4049 - val_accuracy: 0.8245 - 208ms/epoch - 1ms/step\n",
      "Epoch 9/50\n",
      "159/159 - 0s - loss: 0.4131 - accuracy: 0.8004 - val_loss: 0.4164 - val_accuracy: 0.8333 - 210ms/epoch - 1ms/step\n",
      "Epoch 10/50\n",
      "159/159 - 0s - loss: 0.4103 - accuracy: 0.8049 - val_loss: 0.4132 - val_accuracy: 0.8280 - 208ms/epoch - 1ms/step\n",
      "Epoch 11/50\n",
      "159/159 - 0s - loss: 0.4094 - accuracy: 0.8039 - val_loss: 0.4086 - val_accuracy: 0.8351 - 209ms/epoch - 1ms/step\n",
      "Epoch 12/50\n",
      "159/159 - 0s - loss: 0.4068 - accuracy: 0.8022 - val_loss: 0.4145 - val_accuracy: 0.8245 - 204ms/epoch - 1ms/step\n",
      "Epoch 13/50\n",
      "159/159 - 0s - loss: 0.4067 - accuracy: 0.8020 - val_loss: 0.4080 - val_accuracy: 0.8138 - 203ms/epoch - 1ms/step\n",
      "Epoch 14/50\n",
      "159/159 - 0s - loss: 0.4066 - accuracy: 0.8028 - val_loss: 0.4111 - val_accuracy: 0.8280 - 210ms/epoch - 1ms/step\n",
      "Epoch 15/50\n",
      "159/159 - 0s - loss: 0.4058 - accuracy: 0.8010 - val_loss: 0.4127 - val_accuracy: 0.8156 - 207ms/epoch - 1ms/step\n",
      "Epoch 16/50\n",
      "159/159 - 0s - loss: 0.4060 - accuracy: 0.8014 - val_loss: 0.4205 - val_accuracy: 0.8156 - 211ms/epoch - 1ms/step\n",
      "Epoch 17/50\n",
      "159/159 - 0s - loss: 0.4045 - accuracy: 0.8024 - val_loss: 0.4124 - val_accuracy: 0.8209 - 207ms/epoch - 1ms/step\n",
      "Epoch 18/50\n",
      "159/159 - 0s - loss: 0.4039 - accuracy: 0.8022 - val_loss: 0.4134 - val_accuracy: 0.8191 - 206ms/epoch - 1ms/step\n",
      "Epoch 19/50\n",
      "159/159 - 0s - loss: 0.4025 - accuracy: 0.8049 - val_loss: 0.4126 - val_accuracy: 0.8156 - 211ms/epoch - 1ms/step\n",
      "Epoch 20/50\n",
      "159/159 - 0s - loss: 0.4028 - accuracy: 0.8037 - val_loss: 0.4142 - val_accuracy: 0.8227 - 213ms/epoch - 1ms/step\n",
      "Epoch 21/50\n",
      "159/159 - 0s - loss: 0.4007 - accuracy: 0.8053 - val_loss: 0.4089 - val_accuracy: 0.8333 - 213ms/epoch - 1ms/step\n",
      "Epoch 22/50\n",
      "159/159 - 0s - loss: 0.3987 - accuracy: 0.8020 - val_loss: 0.4283 - val_accuracy: 0.8032 - 220ms/epoch - 1ms/step\n",
      "Epoch 23/50\n",
      "159/159 - 0s - loss: 0.4003 - accuracy: 0.8020 - val_loss: 0.4162 - val_accuracy: 0.8262 - 214ms/epoch - 1ms/step\n",
      "Epoch 24/50\n",
      "159/159 - 0s - loss: 0.3990 - accuracy: 0.8059 - val_loss: 0.4223 - val_accuracy: 0.8209 - 219ms/epoch - 1ms/step\n",
      "Epoch 25/50\n",
      "159/159 - 0s - loss: 0.4001 - accuracy: 0.8067 - val_loss: 0.4161 - val_accuracy: 0.8174 - 212ms/epoch - 1ms/step\n",
      "Epoch 26/50\n",
      "159/159 - 0s - loss: 0.3974 - accuracy: 0.8041 - val_loss: 0.4126 - val_accuracy: 0.8227 - 212ms/epoch - 1ms/step\n",
      "Epoch 27/50\n",
      "159/159 - 0s - loss: 0.3972 - accuracy: 0.8071 - val_loss: 0.4138 - val_accuracy: 0.8138 - 209ms/epoch - 1ms/step\n",
      "Epoch 28/50\n",
      "159/159 - 0s - loss: 0.3959 - accuracy: 0.8059 - val_loss: 0.4170 - val_accuracy: 0.8209 - 210ms/epoch - 1ms/step\n",
      "Epoch 29/50\n",
      "159/159 - 0s - loss: 0.3967 - accuracy: 0.8063 - val_loss: 0.4179 - val_accuracy: 0.8227 - 216ms/epoch - 1ms/step\n",
      "Epoch 30/50\n",
      "159/159 - 0s - loss: 0.3945 - accuracy: 0.8081 - val_loss: 0.4159 - val_accuracy: 0.8262 - 219ms/epoch - 1ms/step\n",
      "Epoch 31/50\n",
      "159/159 - 0s - loss: 0.3952 - accuracy: 0.8036 - val_loss: 0.4204 - val_accuracy: 0.8333 - 241ms/epoch - 2ms/step\n",
      "Epoch 32/50\n",
      "159/159 - 0s - loss: 0.3943 - accuracy: 0.8051 - val_loss: 0.4190 - val_accuracy: 0.8245 - 211ms/epoch - 1ms/step\n",
      "Epoch 33/50\n",
      "159/159 - 0s - loss: 0.3939 - accuracy: 0.8047 - val_loss: 0.4185 - val_accuracy: 0.8262 - 212ms/epoch - 1ms/step\n",
      "Epoch 34/50\n",
      "159/159 - 0s - loss: 0.3924 - accuracy: 0.8008 - val_loss: 0.4223 - val_accuracy: 0.8262 - 237ms/epoch - 1ms/step\n",
      "Epoch 35/50\n",
      "159/159 - 0s - loss: 0.3924 - accuracy: 0.8087 - val_loss: 0.4260 - val_accuracy: 0.8262 - 231ms/epoch - 1ms/step\n",
      "Epoch 36/50\n",
      "159/159 - 0s - loss: 0.3923 - accuracy: 0.8087 - val_loss: 0.4223 - val_accuracy: 0.8262 - 211ms/epoch - 1ms/step\n",
      "Epoch 37/50\n",
      "159/159 - 0s - loss: 0.3926 - accuracy: 0.8053 - val_loss: 0.4251 - val_accuracy: 0.8280 - 226ms/epoch - 1ms/step\n",
      "Epoch 38/50\n",
      "159/159 - 0s - loss: 0.3901 - accuracy: 0.8063 - val_loss: 0.4201 - val_accuracy: 0.8085 - 242ms/epoch - 2ms/step\n",
      "Epoch 39/50\n",
      "159/159 - 0s - loss: 0.3905 - accuracy: 0.8049 - val_loss: 0.4213 - val_accuracy: 0.8298 - 222ms/epoch - 1ms/step\n",
      "Epoch 40/50\n",
      "159/159 - 0s - loss: 0.3875 - accuracy: 0.8037 - val_loss: 0.4430 - val_accuracy: 0.8191 - 225ms/epoch - 1ms/step\n",
      "Epoch 41/50\n",
      "159/159 - 0s - loss: 0.3900 - accuracy: 0.8030 - val_loss: 0.4335 - val_accuracy: 0.8138 - 220ms/epoch - 1ms/step\n",
      "Epoch 42/50\n",
      "159/159 - 0s - loss: 0.3897 - accuracy: 0.8057 - val_loss: 0.4219 - val_accuracy: 0.8227 - 220ms/epoch - 1ms/step\n",
      "Epoch 43/50\n",
      "159/159 - 0s - loss: 0.3863 - accuracy: 0.8034 - val_loss: 0.4253 - val_accuracy: 0.8191 - 227ms/epoch - 1ms/step\n",
      "Epoch 44/50\n",
      "159/159 - 0s - loss: 0.3886 - accuracy: 0.8030 - val_loss: 0.4224 - val_accuracy: 0.8262 - 252ms/epoch - 2ms/step\n",
      "Epoch 45/50\n",
      "159/159 - 0s - loss: 0.3858 - accuracy: 0.8075 - val_loss: 0.4274 - val_accuracy: 0.8262 - 231ms/epoch - 1ms/step\n",
      "Epoch 46/50\n",
      "159/159 - 0s - loss: 0.3887 - accuracy: 0.8091 - val_loss: 0.4298 - val_accuracy: 0.8245 - 221ms/epoch - 1ms/step\n",
      "Epoch 47/50\n",
      "159/159 - 0s - loss: 0.3870 - accuracy: 0.8055 - val_loss: 0.4279 - val_accuracy: 0.8174 - 215ms/epoch - 1ms/step\n",
      "Epoch 48/50\n",
      "159/159 - 0s - loss: 0.3869 - accuracy: 0.8063 - val_loss: 0.4352 - val_accuracy: 0.8014 - 224ms/epoch - 1ms/step\n",
      "Epoch 49/50\n",
      "159/159 - 0s - loss: 0.3847 - accuracy: 0.8063 - val_loss: 0.4262 - val_accuracy: 0.8298 - 227ms/epoch - 1ms/step\n",
      "Epoch 50/50\n",
      "159/159 - 0s - loss: 0.3847 - accuracy: 0.8061 - val_loss: 0.4315 - val_accuracy: 0.8156 - 216ms/epoch - 1ms/step\n"
     ]
    }
   ],
   "source": [
    "# Train the ANN model on the training data and validate its performance using the validation set\n",
    "history = model.fit(X_train, y_train, epochs=50, batch_size=32, validation_split=0.1, verbose=2)"
   ]
  },
  {
   "cell_type": "markdown",
   "id": "42812224-1a88-4466-83b4-84d9eaaf4258",
   "metadata": {},
   "source": [
    "# 4. Preparation for a Single Customer"
   ]
  },
  {
   "cell_type": "code",
   "execution_count": 20,
   "id": "8fb76287-5146-42e3-9c7f-38de95d3a106",
   "metadata": {},
   "outputs": [
    {
     "name": "stdout",
     "output_type": "stream",
     "text": [
      "1/1 [==============================] - 0s 107ms/step\n",
      "Churn prediction (1 for churn, 0 for no churn): 0.02356061525642872\n"
     ]
    }
   ],
   "source": [
    "# Prediction for a single customer instance.\n",
    "# Example customer data should be preprocessed in the same way as training data\n",
    "example_customer = X_test[0:1]\n",
    "\n",
    "# Predict the churn for the example customer.  The output is a probability that needs to be classified as churn/no churn.\n",
    "prediction = model.predict(example_customer)\n",
    "print(f\"Churn prediction (1 for churn, 0 for no churn): {prediction[0][0]}\")"
   ]
  },
  {
   "cell_type": "markdown",
   "id": "21742b17-10b8-4f62-a2f9-3fe8956604bd",
   "metadata": {},
   "source": [
    "# 5. Test Set Prediction"
   ]
  },
  {
   "cell_type": "code",
   "execution_count": 23,
   "id": "6b2af05b-8981-4d52-83e2-137714145bda",
   "metadata": {},
   "outputs": [
    {
     "name": "stdout",
     "output_type": "stream",
     "text": [
      "45/45 [==============================] - 0s 998us/step\n"
     ]
    }
   ],
   "source": [
    "# Use the trained model to predict the churn of the unseen test data\n",
    "test_predictions = model.predict(X_test)\n",
    "# Convert probabilities to binary output using the threshold 0.5\n",
    "test_predictions = (test_predictions > 0.5).astype(int) "
   ]
  },
  {
   "cell_type": "markdown",
   "id": "cf9b1ae2-c234-4bbe-8d31-5bc8844df795",
   "metadata": {},
   "source": [
    "# 6. Model Evaluation"
   ]
  },
  {
   "cell_type": "code",
   "execution_count": 24,
   "id": "81097f35-b416-4d33-bb2e-8d2468c8033b",
   "metadata": {},
   "outputs": [
    {
     "name": "stdout",
     "output_type": "stream",
     "text": [
      "Accuracy: 0.7814052519517388\n"
     ]
    }
   ],
   "source": [
    "# Evaluate the model's performance on the test set using metrics like accuracy and confusion matrix\n",
    "\n",
    "# Calculate accuracy\n",
    "accuracy = accuracy_score(y_test, test_predictions)\n",
    "print(f\"Accuracy: {accuracy}\")"
   ]
  },
  {
   "cell_type": "code",
   "execution_count": 25,
   "id": "3009cee4-0782-4710-9f22-0f3e8eef7951",
   "metadata": {},
   "outputs": [],
   "source": [
    "# Caluclate the confusion matrix"
   ]
  },
  {
   "cell_type": "code",
   "execution_count": 26,
   "id": "45e63cd3-3467-4756-8200-5c637a84cb40",
   "metadata": {},
   "outputs": [
    {
     "name": "stdout",
     "output_type": "stream",
     "text": [
      "Confusion Matrix:\n",
      "[[926 115]\n",
      " [193 175]]\n"
     ]
    }
   ],
   "source": [
    "conf_matrix = confusion_matrix(y_test, test_predictions)\n",
    "print(f\"Confusion Matrix:\\n{conf_matrix}\")"
   ]
  },
  {
   "cell_type": "code",
   "execution_count": 27,
   "id": "67a93335-2553-4027-8b1d-12d34ff16b6e",
   "metadata": {},
   "outputs": [
    {
     "name": "stdout",
     "output_type": "stream",
     "text": [
      "\n",
      "Accuracy gives the proportion of total predicitions (both churn and no churn) that were correct.  The confusion matrix provides a detailed breakdown of teh mode's performance, showing the true positives, true negatives, false positives and false negatives.\n"
     ]
    }
   ],
   "source": [
    "# Interpretation\n",
    "print(\"\\nAccuracy gives the proportion of total predicitions (both churn and no churn) that were correct.  The confusion matrix provides a detailed breakdown of the mode's performance, showing the true positives, true negatives, false positives and false negatives.\")"
   ]
  },
  {
   "cell_type": "code",
   "execution_count": null,
   "id": "86fec442-1764-4c25-8d83-aae3e97c42b9",
   "metadata": {},
   "outputs": [],
   "source": []
  },
  {
   "cell_type": "code",
   "execution_count": null,
   "id": "404f1b97-d3aa-45ae-b49f-7e42cdbe8791",
   "metadata": {},
   "outputs": [],
   "source": []
  }
 ],
 "metadata": {
  "kernelspec": {
   "display_name": "Python 3 (ipykernel)",
   "language": "python",
   "name": "python3"
  },
  "language_info": {
   "codemirror_mode": {
    "name": "ipython",
    "version": 3
   },
   "file_extension": ".py",
   "mimetype": "text/x-python",
   "name": "python",
   "nbconvert_exporter": "python",
   "pygments_lexer": "ipython3",
   "version": "3.10.13"
  }
 },
 "nbformat": 4,
 "nbformat_minor": 5
}
