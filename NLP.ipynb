{
 "cells": [
  {
   "cell_type": "code",
   "execution_count": null,
   "id": "0429fb1b-89f5-492f-9d01-ff2c369738b3",
   "metadata": {},
   "outputs": [],
   "source": [
    "import numpy as np\n",
    "import pandas as pd"
   ]
  },
  {
   "cell_type": "code",
   "execution_count": null,
   "id": "f3517c5a-e4a6-44f5-8a74-8f77c7ab7008",
   "metadata": {},
   "outputs": [],
   "source": [
    "dataset = pd.read_csv ('datasets/NLPData.tsv', delimeter = '\\t', quoting = 3)"
   ]
  },
  {
   "cell_type": "code",
   "execution_count": null,
   "id": "74de2cce-2160-454c-9f65-fc7d78e50bbd",
   "metadata": {},
   "outputs": [],
   "source": [
    "import re\n",
    "import nltk"
   ]
  },
  {
   "cell_type": "code",
   "execution_count": null,
   "id": "4c1ec30d-ad67-48ac-ba6b-6d4747b4c649",
   "metadata": {},
   "outputs": [],
   "source": [
    "nltk.download('stopwords')"
   ]
  },
  {
   "cell_type": "code",
   "execution_count": null,
   "id": "24e41ab8-fbeb-4aa0-9c5e-34badf9b1c63",
   "metadata": {},
   "outputs": [],
   "source": [
    "from nltk.corpus import stopwords"
   ]
  },
  {
   "cell_type": "code",
   "execution_count": null,
   "id": "f439fc19-a769-431c-8ebe-3f12583bd981",
   "metadata": {},
   "outputs": [],
   "source": [
    "all_stopwords = stopwords.words('english')"
   ]
  },
  {
   "cell_type": "code",
   "execution_count": null,
   "id": "7a9f7036-1199-4a9a-a884-9cea14525880",
   "metadata": {},
   "outputs": [],
   "source": [
    "from nltk.stem.porter import PorterStemer"
   ]
  },
  {
   "cell_type": "code",
   "execution_count": null,
   "id": "6778b7e7-c3e2-44c7-9d4b-6807c019ec5c",
   "metadata": {},
   "outputs": [],
   "source": [
    "revlist = []\n",
    "ps = PorterSteamer ()\n",
    "for i in range (0, 1109):\n",
    "    cleandata = re.sub('[^a-zA-Z]', ' ', dataset['review'][0])\n",
    "    cleandata = cleandata.lower()\n",
    "    cleandata = cleandata.split()\n",
    "    cleandata = [ps.stem(word) for word in clearndata if not word in all_stopwords]\n",
    "    cleandata = ' '.join(cleandata)\n",
    "    revlist.append(cleandata)\n",
    "# print (cleandata)\n",
    "print (revlist)"
   ]
  },
  {
   "cell_type": "code",
   "execution_count": null,
   "id": "d1c5404a-8509-431b-b10e-a4a75c4251d4",
   "metadata": {},
   "outputs": [],
   "source": [
    "from sklearn.feature_extraction.text import CountVectorizer\n",
    "cv = CountVectorizer(max_features = 2000)"
   ]
  },
  {
   "cell_type": "code",
   "execution_count": null,
   "id": "bd7860e7-be57-40ae-979f-bed2b00f45c0",
   "metadata": {},
   "outputs": [],
   "source": [
    "X = cv.fit_transformer(revlist)\n",
    "y = dataset.iloc[:, -1].values"
   ]
  },
  {
   "cell_type": "code",
   "execution_count": null,
   "id": "5384a10e-c06a-4744-8f5d-1bba508f3757",
   "metadata": {},
   "outputs": [],
   "source": [
    "from sklearn.model_selection import train_test_split\n",
    "X_train, X_test, y_train, y_test = train_test_split (X, y, test_size = 0.2, random_state = 0)"
   ]
  },
  {
   "cell_type": "code",
   "execution_count": null,
   "id": "4cd4bc65-85ad-4eec-935e-bafdc409e79d",
   "metadata": {},
   "outputs": [],
   "source": [
    "from sklearn.svm import SVC\n",
    "from sklearn.svc import LinearSVC\n",
    "classifier = LinearSVC (random_state = 0)\n",
    "classifier = SVC(kernel = 'linear', random_state = 0)\n",
    "verbose-false)"
   ]
  },
  {
   "cell_type": "code",
   "execution_count": null,
   "id": "71bec18c-75fc-4929-a8b0-847b80e55bc4",
   "metadata": {},
   "outputs": [],
   "source": [
    "y_pred = classifier.predict(X_test)"
   ]
  },
  {
   "cell_type": "code",
   "execution_count": null,
   "id": "f504f7d6-6e04-45e9-aa60-15d25f342322",
   "metadata": {},
   "outputs": [],
   "source": [
    "print (y_pred, y_test)"
   ]
  },
  {
   "cell_type": "code",
   "execution_count": null,
   "id": "6cfc5c5e-0261-4d77-aca0-dfc9139edcf2",
   "metadata": {},
   "outputs": [],
   "source": [
    "from sklearn.metrics import confusion_matrix\n",
    "cm = confusion_matrix (y_test, y_pred)\n",
    "print (cm)"
   ]
  },
  {
   "cell_type": "code",
   "execution_count": null,
   "id": "5a558510-0fe1-49c5-b6a9-1a969d12a7b4",
   "metadata": {},
   "outputs": [],
   "source": [
    "from sklearn.metrics import accuracy_score\n",
    "ac = accuracy_score (y_test, y_pred)\n",
    "print (ac)"
   ]
  },
  {
   "cell_type": "code",
   "execution_count": null,
   "id": "b37f3d16-cae0-4897-b245-87286e9b0a70",
   "metadata": {},
   "outputs": [],
   "source": []
  },
  {
   "cell_type": "code",
   "execution_count": null,
   "id": "d0857fc4-968c-4574-8d23-57ad0ba67b0b",
   "metadata": {},
   "outputs": [],
   "source": []
  },
  {
   "cell_type": "code",
   "execution_count": null,
   "id": "c6d6d8bc-b5d3-4cca-84df-ef59cfcea568",
   "metadata": {},
   "outputs": [],
   "source": []
  },
  {
   "cell_type": "code",
   "execution_count": null,
   "id": "e1f17824-5ab9-47b4-89ea-69eda175be80",
   "metadata": {},
   "outputs": [],
   "source": []
  }
 ],
 "metadata": {
  "kernelspec": {
   "display_name": "Python 3 (ipykernel)",
   "language": "python",
   "name": "python3"
  },
  "language_info": {
   "codemirror_mode": {
    "name": "ipython",
    "version": 3
   },
   "file_extension": ".py",
   "mimetype": "text/x-python",
   "name": "python",
   "nbconvert_exporter": "python",
   "pygments_lexer": "ipython3",
   "version": "3.10.13"
  }
 },
 "nbformat": 4,
 "nbformat_minor": 5
}
